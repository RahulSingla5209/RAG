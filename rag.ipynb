{
 "cells": [
  {
   "cell_type": "markdown",
   "metadata": {},
   "source": [
    "# Introduction\n",
    "\n",
    "This pipeline implements a RAG pipeline and then evalutes the performance of same using evaluation dataset"
   ]
  },
  {
   "cell_type": "code",
   "execution_count": 1,
   "metadata": {},
   "outputs": [],
   "source": [
    "import nest_asyncio\n",
    "\n",
    "nest_asyncio.apply()\n",
    "\n",
    "import os\n",
    "import openai\n",
    "\n",
    "\n",
    "#TODO: Replace ChatGPT with Open source LLM\n",
    "os.environ[\"OPENAI_API_KEY\"] = \"..\""
   ]
  },
  {
   "cell_type": "code",
   "execution_count": 2,
   "metadata": {},
   "outputs": [],
   "source": [
    "from llama_index.llms.openai import OpenAI\n",
    "from llama_index.core.schema import MetadataMode"
   ]
  },
  {
   "cell_type": "markdown",
   "metadata": {},
   "source": [
    "# Setup"
   ]
  },
  {
   "cell_type": "markdown",
   "metadata": {},
   "source": [
    "### Load LLM"
   ]
  },
  {
   "cell_type": "code",
   "execution_count": 3,
   "metadata": {},
   "outputs": [],
   "source": [
    "llm = OpenAI(temperature=0.1, model=\"gpt-3.5-turbo\", max_tokens=512)"
   ]
  },
  {
   "cell_type": "markdown",
   "metadata": {},
   "source": [
    "## Implement Custom Feature Extractor\n",
    "\n",
    "You can implement a custom way to extract features from the data using ChatGPT and Llamma Index"
   ]
  },
  {
   "cell_type": "code",
   "execution_count": 4,
   "metadata": {},
   "outputs": [],
   "source": [
    "from llama_index.core.extractors import (\n",
    "    QuestionsAnsweredExtractor,\n",
    "    KeywordExtractor,\n",
    "    BaseExtractor,\n",
    ")\n",
    "from llama_index.extractors.entity import EntityExtractor\n",
    "from llama_index.core.node_parser import TokenTextSplitter\n",
    "from llama_index.core.schema import BaseNode, TextNode\n",
    "from typing import Any, Dict, List, Optional, Sequence, cast\n",
    "from llama_index.core.prompts import PromptTemplate\n",
    "from llama_index.core.async_utils import DEFAULT_NUM_WORKERS, run_jobs\n",
    "from llama_index.core.llms.llm import LLM\n",
    "from llama_index.core.settings import Settings\n",
    "from llama_index.core.service_context_elements.llm_predictor import (\n",
    "    LLMPredictorType,\n",
    ")\n",
    "from llama_index.core.bridge.pydantic import Field, PrivateAttr\n",
    "\n",
    "text_splitter = TokenTextSplitter(\n",
    "    separator=\" \", chunk_size=512, chunk_overlap=128\n",
    ")"
   ]
  },
  {
   "cell_type": "code",
   "execution_count": 5,
   "metadata": {},
   "outputs": [],
   "source": [
    "MASTER_SUMMARY_TEMPLATE = \"\"\"\\\n",
    "Given summary for three consecutive parts, create Headline for the page:\n",
    "Summary 1:\n",
    "{context_str_1}\n",
    "Summary 2:\n",
    "{context_str_2}\n",
    "Summary 3:\n",
    "{context_str_3}\n",
    "\n",
    "Headline for the page \\\n",
    "\n",
    "Headline: \"\"\"\n",
    "\n",
    "SUMMARY_TEMPLATE = \"\"\"\\\n",
    "Here is the content of the section:\n",
    "{context_str}\n",
    "\n",
    "Summarize the key topics and entities of the section. \\\n",
    "\n",
    "Summary: \"\"\"\n",
    "\n",
    "class CustomExtractor(BaseExtractor):\n",
    "    \"\"\"\n",
    "    Summary extractor. \n",
    "    performs two levels for summary - chunk level, page level\n",
    "    For the now, page level is done using reading chunks before and after\n",
    "    \n",
    "    TODO: summarize all nodes of page. current method looks at only 3 chunks  \n",
    "\n",
    "    Args:\n",
    "        llm (Optional[LLM]): LLM\n",
    "        prompt_template (str): template for summary extraction for nodes\n",
    "        prompt_template_master (str): template for summary extraction for 3 nodes combined\n",
    "    \"\"\"\n",
    "    \n",
    "    llm: LLMPredictorType = Field(description=\"The LLM to use for generation.\")\n",
    "    prompt_template: str = Field(\n",
    "        default=SUMMARY_TEMPLATE,\n",
    "        description=\"Template to use when generating summaries.\",\n",
    "    )\n",
    "    prompt_template_master: str = Field(\n",
    "        default=MASTER_SUMMARY_TEMPLATE,\n",
    "        description=\"Template to use when generating summaries.\",\n",
    "    )\n",
    "\n",
    "    def __init__(\n",
    "    self,\n",
    "    llm: Optional[LLM] = None,\n",
    "    # TODO: llm_predictor arg is deprecated\n",
    "    llm_predictor: Optional[LLMPredictorType] = None,\n",
    "    prompt_template: str = SUMMARY_TEMPLATE,\n",
    "    prompt_template_master: str = MASTER_SUMMARY_TEMPLATE,\n",
    "    num_workers: int = DEFAULT_NUM_WORKERS,\n",
    "    **kwargs: Any,\n",
    "    ):\n",
    "\n",
    "        super().__init__(\n",
    "            llm=llm or llm_predictor or Settings.llm,\n",
    "            prompt_template=prompt_template,\n",
    "            prompt_template_master=prompt_template_master,\n",
    "            num_workers=num_workers,\n",
    "            **kwargs,\n",
    "        )\n",
    "\n",
    "    \n",
    "    async def _agenerate_combined_summary(self, \n",
    "                                          context_str_1: str, \n",
    "                                          context_str_2: str, \n",
    "                                          context_str_3: str, \n",
    "                                          ) -> str:\n",
    "        \"\"\"Generate combined summary.\"\"\"\n",
    "\n",
    "        summary = await self.llm.apredict(\n",
    "            PromptTemplate(template=self.prompt_template_master), \n",
    "            context_str_1=context_str_1,\n",
    "            context_str_2=context_str_2,\n",
    "            context_str_3=context_str_3,\n",
    "        )\n",
    "\n",
    "        return summary.strip()\n",
    "    \n",
    "    async def _agenerate_node_summary(self, node: BaseNode) -> str:\n",
    "        \"\"\"Generate a summary for a node.\"\"\"\n",
    "        if self.is_text_node_only and not isinstance(node, TextNode):\n",
    "            return \"\"\n",
    "\n",
    "        context_str = node.get_content(metadata_mode=self.metadata_mode)\n",
    "        summary = await self.llm.apredict(\n",
    "            PromptTemplate(template=self.prompt_template), context_str=context_str\n",
    "        )\n",
    "\n",
    "        return summary.strip()\n",
    "\n",
    "    async def aextract(self, nodes: Sequence[BaseNode]) -> List[Dict]:\n",
    "        if not all(isinstance(node, TextNode) for node in nodes):\n",
    "            raise ValueError(\"Only `TextNode` is allowed for `Summary` extractor\")\n",
    "\n",
    "        node_summaries_jobs = []\n",
    "        for node in nodes:\n",
    "            node_summaries_jobs.append(self._agenerate_node_summary(node))\n",
    "\n",
    "        node_summaries = await run_jobs(\n",
    "            node_summaries_jobs,\n",
    "            show_progress=self.show_progress,\n",
    "            workers=self.num_workers,\n",
    "        )\n",
    "\n",
    "        master_summaries_jobs = []\n",
    "        # Extract node-level summary metadata\n",
    "        metadata_list: List[Dict] = [{} for _ in nodes]\n",
    "        for i, metadata in enumerate(metadata_list):\n",
    "            prev_sum = \"\"\n",
    "            next_sum = \"\"\n",
    "\n",
    "            if i>0 and nodes[i-1].metadata[\"page_label\"] == nodes[i].metadata[\"page_label\"]:\n",
    "                prev_sum = node_summaries[i - 1]\n",
    "            if i < len(nodes) - 1 and nodes[i+1].metadata[\"page_label\"] == nodes[i].metadata[\"page_label\"]:\n",
    "                next_sum = node_summaries[i + 1]\n",
    "            if i > 0 and node_summaries[i - 1] and  i < len(nodes) - 1 and node_summaries[i + 1]:\n",
    "                master_summaries_jobs.append(self._agenerate_combined_summary(\n",
    "                                                prev_sum,\n",
    "                                                node_summaries[i],\n",
    "                                                next_sum,\n",
    "                                            ))\n",
    "        \n",
    "        master_summaries = [node_summaries[0]]\n",
    "        master_summaries += await run_jobs(\n",
    "                    master_summaries_jobs,\n",
    "                    show_progress=self.show_progress,\n",
    "                    workers=self.num_workers,\n",
    "                    )\n",
    "        master_summaries.append(node_summaries[-1])\n",
    "        \n",
    "        # Extract node-level summary metadata\n",
    "        metadata_list: List[Dict] = [{} for _ in nodes]\n",
    "        for i, metadata in enumerate(metadata_list):\n",
    "            if master_summaries[i]:\n",
    "                metadata[\"headline\"] = master_summaries[i]\n",
    "                metadata[\"summary\"] = node_summaries[i]\n",
    "\n",
    "        return metadata_list"
   ]
  },
  {
   "cell_type": "code",
   "execution_count": 6,
   "metadata": {},
   "outputs": [],
   "source": [
    "extractors = [\n",
    "    QuestionsAnsweredExtractor(questions=3, llm=llm),\n",
    "\n",
    "    # already used in custom extractor\n",
    "    # SummaryExtractor(summaries=[\"self\"], llm=llm),\n",
    "    \n",
    "    KeywordExtractor(keywords=10, llm=llm),\n",
    "\n",
    "    # Summarizes three chunk together. for a given page.\n",
    "    CustomExtractor(llm=llm)\n",
    "]\n",
    "\n",
    "transformations = [text_splitter] + extractors"
   ]
  },
  {
   "cell_type": "markdown",
   "metadata": {},
   "source": [
    "## read and process data"
   ]
  },
  {
   "cell_type": "code",
   "execution_count": 7,
   "metadata": {},
   "outputs": [],
   "source": [
    "from llama_index.core import SimpleDirectoryReader"
   ]
  },
  {
   "cell_type": "code",
   "execution_count": 8,
   "metadata": {},
   "outputs": [],
   "source": [
    "docs = SimpleDirectoryReader(input_files=[\"../data/Investment Case For Disruptive Innovation.pdf\"]).load_data()"
   ]
  },
  {
   "cell_type": "code",
   "execution_count": 9,
   "metadata": {},
   "outputs": [
    {
     "name": "stderr",
     "output_type": "stream",
     "text": [
      "100%|██████████| 25/25 [00:09<00:00,  2.72it/s]\n",
      "100%|██████████| 25/25 [00:05<00:00,  4.65it/s]\n",
      "100%|██████████| 25/25 [00:10<00:00,  2.33it/s]\n",
      "100%|██████████| 23/23 [00:04<00:00,  5.73it/s]\n"
     ]
    }
   ],
   "source": [
    "from llama_index.core.ingestion import IngestionPipeline\n",
    "\n",
    "pipeline = IngestionPipeline(transformations=transformations)\n",
    "\n",
    "data_nodes = pipeline.run(documents=docs)"
   ]
  },
  {
   "cell_type": "code",
   "execution_count": 38,
   "metadata": {},
   "outputs": [
    {
     "name": "stdout",
     "output_type": "stream",
     "text": [
      "[Excerpt from document]\n",
      "page_label: 3\n",
      "file_path: ..\\data\\Investment Case For Disruptive Innovation.pdf\n",
      "questions_this_excerpt_can_answer: 1. How will the adoption of Neural Networks impact the future of cloud datacenters and AI-specific compute hardware?\n",
      "2. What potential transformations can be expected in the transportation industry due to declining costs of Advanced Battery Technology and electric drivetrain cost declines?\n",
      "3. In what ways will robotics, catalyzed by artificial intelligence, revolutionize manufacturing processes and supply chains in the future?\n",
      "excerpt_keywords: Neural Networks, Cloud datacenters, AI-specific compute hardware, Advanced Battery Technology, Electric drivetrain, Robotics, Artificial intelligence, Manufacturing processes, Supply chains, Disruptive Innovation\n",
      "headline: \"The Convergence of Innovation Platforms: Redefining Technology in the Modern Era\"\n",
      "summary: The key topics of the section include the adoption of Neural Networks and its impact on cloud datacenters and AI-specific compute hardware, the potential transformations in the transportation industry due to declining costs of Advanced Battery Technology and electric drivetrain cost declines, and the revolutionization of manufacturing processes and supply chains through robotics catalyzed by artificial intelligence. The section discusses how these disruptive innovations will change the way people live, work, and play, as well as transform various sectors and business models. Key entities mentioned include Neural Networks, Cloud datacenters, AI-specific compute hardware, Advanced Battery Technology, Electric drivetrain, Robotics, Artificial intelligence, Manufacturing processes, and Supply chains.\n",
      "Excerpt:\n",
      "-----\n",
      "adoption of Neural Networks should prove more momentous than the introduction of the internet. At scale these systems will require unprecedented computational resources, and AI-specific compute hardware should dominate the Next Gen Cloud datacenters that train and operate AI models. The potential for end-users is clear: a constellation of AI-driven Intelligent Devices that pervade people's lives, changing the way that they spend, work, and play. The adoption of artificial intelligence should transform every sector, impact every business, and catalyze every innovation platform. Energy Storage Declining costs of Advanced Battery Technology should cause an explosion in form factors, enabling Autonomous Mobility systems that collapse the cost of getting people and things from place to place. Electric drivetrain cost declines should unlock micro-mobility and aerial systems, including flying taxis, enabling business models that transform the landscape of cities. Autonomy should reduce the cost of taxi, delivery, and surveillance by an order of magnitude, enabling frictionless transport that could increase the velocity of e-commerce and make individual car ownership the exception rather than the rule. These innovations combined with large-scale stationary batteries should cause a transformation in energy, substituting electricity for liquid fuel and pushing generation infrastructure towards the edge of the network. RoboticsCatalyzed by artificial intelligence, Adaptive Robots can operate alongside humans and navigate legacy infrastructure, changing the way products are made and sold. 3D Printing should contribute to the digitization of manufacturing, increasing not only the performance and precision of end-use parts but also the resilience of supply chains. Meanwhile, the world’s fastest robots, Reusable Rockets, should continue to reduce the cost of launching satellite constellations and enable uninterruptible connectivity. A nascent innovation platform, robotics could collapse the cost of distance with hypersonic travel, the cost of manufacturing complexity with 3D printers, and the cost of production with AI-guided robots. WHY INVEST IN DISRUPTIVE INNOVATION?\n",
      "-----\n"
     ]
    }
   ],
   "source": [
    "print(data_nodes[3].get_content(metadata_mode=MetadataMode.EMBED))"
   ]
  },
  {
   "cell_type": "code",
   "execution_count": 39,
   "metadata": {},
   "outputs": [
    {
     "name": "stdout",
     "output_type": "stream",
     "text": [
      "[Excerpt from document]\n",
      "page_label: 3\n",
      "file_path: ..\\data\\Investment Case For Disruptive Innovation.pdf\n",
      "questions_this_excerpt_can_answer: 1. How will the adoption of Neural Networks impact the future of cloud datacenters and AI-specific compute hardware?\n",
      "2. What potential transformations can be expected in the transportation industry due to declining costs of Advanced Battery Technology and electric drivetrain cost declines?\n",
      "3. In what ways will robotics, catalyzed by artificial intelligence, revolutionize manufacturing processes and supply chains in the future?\n",
      "excerpt_keywords: Neural Networks, Cloud datacenters, AI-specific compute hardware, Advanced Battery Technology, Electric drivetrain, Robotics, Artificial intelligence, Manufacturing processes, Supply chains, Disruptive Innovation\n",
      "headline: \"The Convergence of Innovation Platforms: Redefining Technology in the Modern Era\"\n",
      "summary: The key topics of the section include the adoption of Neural Networks and its impact on cloud datacenters and AI-specific compute hardware, the potential transformations in the transportation industry due to declining costs of Advanced Battery Technology and electric drivetrain cost declines, and the revolutionization of manufacturing processes and supply chains through robotics catalyzed by artificial intelligence. The section discusses how these disruptive innovations will change the way people live, work, and play, as well as transform various sectors and business models. Key entities mentioned include Neural Networks, Cloud datacenters, AI-specific compute hardware, Advanced Battery Technology, Electric drivetrain, Robotics, Artificial intelligence, Manufacturing processes, and Supply chains.\n",
      "Excerpt:\n",
      "-----\n",
      "adoption of Neural Networks should prove more momentous than the introduction of the internet. At scale these systems will require unprecedented computational resources, and AI-specific compute hardware should dominate the Next Gen Cloud datacenters that train and operate AI models. The potential for end-users is clear: a constellation of AI-driven Intelligent Devices that pervade people's lives, changing the way that they spend, work, and play. The adoption of artificial intelligence should transform every sector, impact every business, and catalyze every innovation platform. Energy Storage Declining costs of Advanced Battery Technology should cause an explosion in form factors, enabling Autonomous Mobility systems that collapse the cost of getting people and things from place to place. Electric drivetrain cost declines should unlock micro-mobility and aerial systems, including flying taxis, enabling business models that transform the landscape of cities. Autonomy should reduce the cost of taxi, delivery, and surveillance by an order of magnitude, enabling frictionless transport that could increase the velocity of e-commerce and make individual car ownership the exception rather than the rule. These innovations combined with large-scale stationary batteries should cause a transformation in energy, substituting electricity for liquid fuel and pushing generation infrastructure towards the edge of the network. RoboticsCatalyzed by artificial intelligence, Adaptive Robots can operate alongside humans and navigate legacy infrastructure, changing the way products are made and sold. 3D Printing should contribute to the digitization of manufacturing, increasing not only the performance and precision of end-use parts but also the resilience of supply chains. Meanwhile, the world’s fastest robots, Reusable Rockets, should continue to reduce the cost of launching satellite constellations and enable uninterruptible connectivity. A nascent innovation platform, robotics could collapse the cost of distance with hypersonic travel, the cost of manufacturing complexity with 3D printers, and the cost of production with AI-guided robots. WHY INVEST IN DISRUPTIVE INNOVATION?\n",
      "-----\n"
     ]
    }
   ],
   "source": [
    "print(data_nodes[3].get_content(metadata_mode=MetadataMode.LLM))"
   ]
  },
  {
   "cell_type": "code",
   "execution_count": 40,
   "metadata": {},
   "outputs": [
    {
     "name": "stdout",
     "output_type": "stream",
     "text": [
      "\"The Convergence of Innovation Platforms: Redefining Technology in the Modern Era\"\n"
     ]
    }
   ],
   "source": [
    "print(data_nodes[3].metadata[\"headline\"])"
   ]
  },
  {
   "cell_type": "code",
   "execution_count": 41,
   "metadata": {},
   "outputs": [
    {
     "name": "stdout",
     "output_type": "stream",
     "text": [
      "The key topics of the section include the adoption of Neural Networks and its impact on cloud datacenters and AI-specific compute hardware, the potential transformations in the transportation industry due to declining costs of Advanced Battery Technology and electric drivetrain cost declines, and the revolutionization of manufacturing processes and supply chains through robotics catalyzed by artificial intelligence. The section discusses how these disruptive innovations will change the way people live, work, and play, as well as transform various sectors and business models. Key entities mentioned include Neural Networks, Cloud datacenters, AI-specific compute hardware, Advanced Battery Technology, Electric drivetrain, Robotics, Artificial intelligence, Manufacturing processes, and Supply chains.\n"
     ]
    }
   ],
   "source": [
    "print(data_nodes[3].metadata[\"summary\"])"
   ]
  },
  {
   "cell_type": "code",
   "execution_count": 42,
   "metadata": {},
   "outputs": [
    {
     "name": "stdout",
     "output_type": "stream",
     "text": [
      "1. How will the adoption of Neural Networks impact the future of cloud datacenters and AI-specific compute hardware?\n",
      "2. What potential transformations can be expected in the transportation industry due to declining costs of Advanced Battery Technology and electric drivetrain cost declines?\n",
      "3. In what ways will robotics, catalyzed by artificial intelligence, revolutionize manufacturing processes and supply chains in the future?\n"
     ]
    }
   ],
   "source": [
    "print(data_nodes[3].metadata[\"questions_this_excerpt_can_answer\"])"
   ]
  },
  {
   "cell_type": "markdown",
   "metadata": {},
   "source": [
    "## Index docs using Open Source Model"
   ]
  },
  {
   "cell_type": "code",
   "execution_count": 14,
   "metadata": {},
   "outputs": [],
   "source": [
    "from llama_index.core import VectorStoreIndex"
   ]
  },
  {
   "cell_type": "code",
   "execution_count": 15,
   "metadata": {},
   "outputs": [],
   "source": [
    "from llama_index.embeddings.huggingface import HuggingFaceEmbedding\n",
    "\n",
    "from llama_index.core import Settings\n",
    "\n",
    "# index model required for decent indexing performance. \n",
    "# fine tuned model might work better because domnain specific keywords\n",
    "Settings.embed_model = HuggingFaceEmbedding(\n",
    "    model_name=\"BAAI/bge-small-en-v1.5\"\n",
    ")"
   ]
  },
  {
   "cell_type": "code",
   "execution_count": 16,
   "metadata": {},
   "outputs": [],
   "source": [
    "index = VectorStoreIndex(\n",
    "    nodes=data_nodes,\n",
    ")"
   ]
  },
  {
   "cell_type": "markdown",
   "metadata": {},
   "source": [
    "# Create QA engine"
   ]
  },
  {
   "cell_type": "code",
   "execution_count": 17,
   "metadata": {},
   "outputs": [],
   "source": [
    "# using thumb rule of 3 chunks. More experimenation and eval required to find more optimal chunking\n",
    "query_engine = index.as_query_engine(similarity_top_k=3)"
   ]
  },
  {
   "cell_type": "markdown",
   "metadata": {},
   "source": [
    "# Example runs"
   ]
  },
  {
   "cell_type": "markdown",
   "metadata": {},
   "source": [
    "## Example 1"
   ]
  },
  {
   "cell_type": "code",
   "execution_count": 43,
   "metadata": {},
   "outputs": [],
   "source": [
    "ques = \"How does ARK ensure its investment strategies align with reality of disruptive innovation trends?\""
   ]
  },
  {
   "cell_type": "code",
   "execution_count": 44,
   "metadata": {},
   "outputs": [
    {
     "name": "stdout",
     "output_type": "stream",
     "text": [
      "ARK ensures its investment strategies align with the reality of disruptive innovation trends by emphasizing the importance of understanding regulatory, market, sector, and company risks associated with investing in disruptive innovation. Additionally, ARK recommends a cross-sector understanding of technology and a combination of top-down and bottom-up research to mitigate risks effectively.\n"
     ]
    }
   ],
   "source": [
    "response = query_engine.query(ques)\n",
    "print(response)"
   ]
  },
  {
   "cell_type": "code",
   "execution_count": 45,
   "metadata": {},
   "outputs": [
    {
     "data": {
      "text/plain": [
       "{'page_label': '2',\n",
       " 'file_name': 'c:/Users/singl/studies/Interviews/tifin/data/Investment Case For Disruptive Innovation.pdf',\n",
       " 'file_path': '..\\\\data\\\\Investment Case For Disruptive Innovation.pdf',\n",
       " 'file_type': 'application/pdf',\n",
       " 'file_size': 1998242,\n",
       " 'creation_date': '2024-03-02',\n",
       " 'last_modified_date': '2024-03-02',\n",
       " 'questions_this_excerpt_can_answer': '1. What risks are associated with investing in disruptive innovation according to ARK Investment Management LLC?\\n2. How does ARK Investment Management LLC suggest investors approach understanding the regulatory, market, sector, and company risks of investing in innovation?\\n3. What strategies does ARK Investment Management LLC recommend for investors to mitigate the risks of investing in disruptive innovation, considering factors such as regulatory hurdles and competitive landscape?',\n",
       " 'excerpt_keywords': 'disruptive innovation, ARK Investment Management LLC, investment, risks, regulatory hurdles, competitive landscape, market risk, uncertainty, technology, research',\n",
       " 'headline': 'Navigating Risks in Disruptive Innovation Investing: Insights from ARK Investment Management LLC',\n",
       " 'summary': 'The section discusses the risks associated with investing in disruptive innovation according to ARK Investment Management LLC. It highlights the rapid pace of change, uncertainty, exposure across sectors and market cap, regulatory hurdles, competitive landscape, and political or legal pressure as key risks. The excerpt emphasizes the importance of understanding regulatory, market, sector, and company risks, and recommends a cross-sector understanding of technology and a combination of top-down and bottom-up research to mitigate these risks.'}"
      ]
     },
     "execution_count": 45,
     "metadata": {},
     "output_type": "execute_result"
    }
   ],
   "source": [
    "query_engine.retrieve(ques)[0].metadata"
   ]
  },
  {
   "cell_type": "code",
   "execution_count": 46,
   "metadata": {},
   "outputs": [
    {
     "data": {
      "text/plain": [
       "0.8541514392779946"
      ]
     },
     "execution_count": 46,
     "metadata": {},
     "output_type": "execute_result"
    }
   ],
   "source": [
    "query_engine.retrieve(ques)[0].score"
   ]
  },
  {
   "cell_type": "markdown",
   "metadata": {},
   "source": [
    "## Example 2"
   ]
  },
  {
   "cell_type": "code",
   "execution_count": 47,
   "metadata": {},
   "outputs": [],
   "source": [
    "ques = \"What is the core objective of investing in disruptive innovation according to ARK?\""
   ]
  },
  {
   "cell_type": "code",
   "execution_count": 48,
   "metadata": {},
   "outputs": [
    {
     "name": "stdout",
     "output_type": "stream",
     "text": [
      "The core objective of investing in disruptive innovation according to ARK is to capture companies at the forefront of technology-enabled innovation that offer potential for long-term growth, portfolio diversification, and a moderate-to-high risk-reward profile that complements traditional investment strategies.\n"
     ]
    }
   ],
   "source": [
    "response = query_engine.query(ques)\n",
    "print(response)"
   ]
  },
  {
   "cell_type": "code",
   "execution_count": 49,
   "metadata": {},
   "outputs": [
    {
     "data": {
      "text/plain": [
       "{'d12394fe-03e5-4316-b203-2b5a4c6cd3ea': {'page_label': '17',\n",
       "  'file_name': 'c:/Users/singl/studies/Interviews/tifin/data/Investment Case For Disruptive Innovation.pdf',\n",
       "  'file_path': '..\\\\data\\\\Investment Case For Disruptive Innovation.pdf',\n",
       "  'file_type': 'application/pdf',\n",
       "  'file_size': 1998242,\n",
       "  'creation_date': '2024-03-02',\n",
       "  'last_modified_date': '2024-03-02',\n",
       "  'questions_this_excerpt_can_answer': '1. How does the ARK Innovation ETF (ARKK) aim to capture disruptive innovation in the market?\\n2. What are the potential benefits for investors who choose to invest in companies at the forefront of technology-enabled innovation?\\n3. How does the moderate-to-high risk-reward profile of investing in disruptive innovation complement traditional investment strategies for investors with a similar risk profile?',\n",
       "  'excerpt_keywords': 'disruptive innovation, ARK Innovation ETF, technology-enabled, growth, portfolio diversification, risk-reward profile, secular changes, core portfolios, financial advice, long-term',\n",
       "  'headline': 'Exploring the Potential Benefits and Risks of Investing in Disruptive Innovation with ARK Innovation ETF (ARKK)',\n",
       "  'summary': 'The key topics of the section include the ARK Innovation ETF (ARKK) and its aim to capture disruptive innovation in the market, potential benefits for investors investing in technology-enabled innovation, portfolio diversification, moderate-to-high risk-reward profile of investing in disruptive innovation, secular changes, and the importance of seeking financial advice. Key entities mentioned are investors, companies at the forefront of technology-enabled innovation, ARK Innovation ETF, and financial professionals.'},\n",
       " '9f827e40-1b8e-4aee-a205-5625cc1c72b5': {'page_label': '2',\n",
       "  'file_name': 'c:/Users/singl/studies/Interviews/tifin/data/Investment Case For Disruptive Innovation.pdf',\n",
       "  'file_path': '..\\\\data\\\\Investment Case For Disruptive Innovation.pdf',\n",
       "  'file_type': 'application/pdf',\n",
       "  'file_size': 1998242,\n",
       "  'creation_date': '2024-03-02',\n",
       "  'last_modified_date': '2024-03-02',\n",
       "  'questions_this_excerpt_can_answer': '1. What risks are associated with investing in disruptive innovation according to ARK Investment Management LLC?\\n2. How does ARK Investment Management LLC suggest investors approach understanding the regulatory, market, sector, and company risks of investing in innovation?\\n3. What strategies does ARK Investment Management LLC recommend for investors to mitigate the risks of investing in disruptive innovation, considering factors such as regulatory hurdles and competitive landscape?',\n",
       "  'excerpt_keywords': 'disruptive innovation, ARK Investment Management LLC, investment, risks, regulatory hurdles, competitive landscape, market risk, uncertainty, technology, research',\n",
       "  'headline': 'Navigating Risks in Disruptive Innovation Investing: Insights from ARK Investment Management LLC',\n",
       "  'summary': 'The section discusses the risks associated with investing in disruptive innovation according to ARK Investment Management LLC. It highlights the rapid pace of change, uncertainty, exposure across sectors and market cap, regulatory hurdles, competitive landscape, and political or legal pressure as key risks. The excerpt emphasizes the importance of understanding regulatory, market, sector, and company risks, and recommends a cross-sector understanding of technology and a combination of top-down and bottom-up research to mitigate these risks.'},\n",
       " 'b166736e-d81d-4721-a662-47adcc361e3d': {'page_label': '1',\n",
       "  'file_name': 'c:/Users/singl/studies/Interviews/tifin/data/Investment Case For Disruptive Innovation.pdf',\n",
       "  'file_path': '..\\\\data\\\\Investment Case For Disruptive Innovation.pdf',\n",
       "  'file_type': 'application/pdf',\n",
       "  'file_size': 1998242,\n",
       "  'creation_date': '2024-03-02',\n",
       "  'last_modified_date': '2024-03-02',\n",
       "  'questions_this_excerpt_can_answer': '1. What is the forecast for disruptive innovation according to ARK Investment Management LLC as of December 31, 2023?\\n2. Why should investors consider investing in disruptive innovation based on the information provided in the document?\\n3. How does ARK Investment Management LLC caution against relying too heavily on forecasts for disruptive innovation in their investment advice?',\n",
       "  'excerpt_keywords': 'disruptive innovation, forecast, ARK Investment Management LLC, investment, caution, reliance, advice, security, performance, future results',\n",
       "  'headline': 'The section discusses the reasons for investing in disruptive innovation according to ARK Investment Management LLC. It highlights the limited reliability of forecasts, cautions against relying too heavily on them, and emphasizes that past performance is not indicative of future results. The key topics include disruptive innovation, investment advice, caution, reliance on forecasts, and the disclaimer that past performance does not guarantee future results. The key entity mentioned is ARK Investment Management LLC.',\n",
       "  'summary': 'The section discusses the reasons for investing in disruptive innovation according to ARK Investment Management LLC. It highlights the limited reliability of forecasts, cautions against relying too heavily on them, and emphasizes that past performance is not indicative of future results. The key topics include disruptive innovation, investment advice, caution, reliance on forecasts, and the disclaimer that past performance does not guarantee future results. The key entity mentioned is ARK Investment Management LLC.'}}"
      ]
     },
     "execution_count": 49,
     "metadata": {},
     "output_type": "execute_result"
    }
   ],
   "source": [
    "response.metadata"
   ]
  },
  {
   "cell_type": "markdown",
   "metadata": {},
   "source": [
    "# Evaluate QA System"
   ]
  },
  {
   "cell_type": "markdown",
   "metadata": {},
   "source": [
    "## Retriver Performance\n",
    "\n",
    "Ideally, labelled data would be required to evaluate the performance of data.\n",
    "\n",
    "Because of time and resource constraint, page level ranking has been done for 20 eval questions"
   ]
  },
  {
   "cell_type": "code",
   "execution_count": 12,
   "metadata": {},
   "outputs": [
    {
     "data": {
      "text/html": [
       "<div>\n",
       "<style scoped>\n",
       "    .dataframe tbody tr th:only-of-type {\n",
       "        vertical-align: middle;\n",
       "    }\n",
       "\n",
       "    .dataframe tbody tr th {\n",
       "        vertical-align: top;\n",
       "    }\n",
       "\n",
       "    .dataframe thead th {\n",
       "        text-align: right;\n",
       "    }\n",
       "</style>\n",
       "<table border=\"1\" class=\"dataframe\">\n",
       "  <thead>\n",
       "    <tr style=\"text-align: right;\">\n",
       "      <th></th>\n",
       "      <th>question</th>\n",
       "      <th>answer_page</th>\n",
       "    </tr>\n",
       "  </thead>\n",
       "  <tbody>\n",
       "    <tr>\n",
       "      <th>0</th>\n",
       "      <td>What is the core objective of investing in dis...</td>\n",
       "      <td>3</td>\n",
       "    </tr>\n",
       "    <tr>\n",
       "      <th>1</th>\n",
       "      <td>What are the significant risks associated with...</td>\n",
       "      <td>2</td>\n",
       "    </tr>\n",
       "    <tr>\n",
       "      <th>2</th>\n",
       "      <td>Can you list the converging innovation platfor...</td>\n",
       "      <td>4</td>\n",
       "    </tr>\n",
       "    <tr>\n",
       "      <th>3</th>\n",
       "      <td>How does ARK describe the impact of Artificial...</td>\n",
       "      <td>3</td>\n",
       "    </tr>\n",
       "    <tr>\n",
       "      <th>4</th>\n",
       "      <td>What transformative potential does Multiomic S...</td>\n",
       "      <td>3</td>\n",
       "    </tr>\n",
       "    <tr>\n",
       "      <th>5</th>\n",
       "      <td>What are the implications of declining battery...</td>\n",
       "      <td>3</td>\n",
       "    </tr>\n",
       "    <tr>\n",
       "      <th>6</th>\n",
       "      <td>How is the field of Robotics anticipated to ev...</td>\n",
       "      <td>3</td>\n",
       "    </tr>\n",
       "    <tr>\n",
       "      <th>7</th>\n",
       "      <td>What does the ARK’s Convergence Scoring Framew...</td>\n",
       "      <td>4</td>\n",
       "    </tr>\n",
       "    <tr>\n",
       "      <th>8</th>\n",
       "      <td>How do neural networks serve as a catalyst for...</td>\n",
       "      <td>3</td>\n",
       "    </tr>\n",
       "    <tr>\n",
       "      <th>9</th>\n",
       "      <td>What unique view does ARK have towards Autonom...</td>\n",
       "      <td>3</td>\n",
       "    </tr>\n",
       "    <tr>\n",
       "      <th>10</th>\n",
       "      <td>How do AI Chatbots contribute to the developme...</td>\n",
       "      <td>15</td>\n",
       "    </tr>\n",
       "    <tr>\n",
       "      <th>11</th>\n",
       "      <td>What are breakthroughs in DNA Sequencing parti...</td>\n",
       "      <td>11</td>\n",
       "    </tr>\n",
       "    <tr>\n",
       "      <th>12</th>\n",
       "      <td>How does the application of AI language models...</td>\n",
       "      <td>7</td>\n",
       "    </tr>\n",
       "    <tr>\n",
       "      <th>13</th>\n",
       "      <td>In what ways are battery advances critical to ...</td>\n",
       "      <td>3</td>\n",
       "    </tr>\n",
       "    <tr>\n",
       "      <th>14</th>\n",
       "      <td>How do reusable rockets contribute to global c...</td>\n",
       "      <td>3</td>\n",
       "    </tr>\n",
       "    <tr>\n",
       "      <th>15</th>\n",
       "      <td>What economic implications do disruptive innov...</td>\n",
       "      <td>4</td>\n",
       "    </tr>\n",
       "    <tr>\n",
       "      <th>16</th>\n",
       "      <td>What are the top 10 holdings of ARK Innovation...</td>\n",
       "      <td>19</td>\n",
       "    </tr>\n",
       "    <tr>\n",
       "      <th>17</th>\n",
       "      <td>What thematic strategies do ARK ETFs focus on?</td>\n",
       "      <td>20</td>\n",
       "    </tr>\n",
       "    <tr>\n",
       "      <th>18</th>\n",
       "      <td>What is ARK's strategy for capturing the benef...</td>\n",
       "      <td>18</td>\n",
       "    </tr>\n",
       "    <tr>\n",
       "      <th>19</th>\n",
       "      <td>How does ARK ensure its investment strategies ...</td>\n",
       "      <td>2</td>\n",
       "    </tr>\n",
       "  </tbody>\n",
       "</table>\n",
       "</div>"
      ],
      "text/plain": [
       "                                             question  answer_page\n",
       "0   What is the core objective of investing in dis...            3\n",
       "1   What are the significant risks associated with...            2\n",
       "2   Can you list the converging innovation platfor...            4\n",
       "3   How does ARK describe the impact of Artificial...            3\n",
       "4   What transformative potential does Multiomic S...            3\n",
       "5   What are the implications of declining battery...            3\n",
       "6   How is the field of Robotics anticipated to ev...            3\n",
       "7   What does the ARK’s Convergence Scoring Framew...            4\n",
       "8   How do neural networks serve as a catalyst for...            3\n",
       "9   What unique view does ARK have towards Autonom...            3\n",
       "10  How do AI Chatbots contribute to the developme...           15\n",
       "11  What are breakthroughs in DNA Sequencing parti...           11\n",
       "12  How does the application of AI language models...            7\n",
       "13  In what ways are battery advances critical to ...            3\n",
       "14  How do reusable rockets contribute to global c...            3\n",
       "15  What economic implications do disruptive innov...            4\n",
       "16  What are the top 10 holdings of ARK Innovation...           19\n",
       "17     What thematic strategies do ARK ETFs focus on?           20\n",
       "18  What is ARK's strategy for capturing the benef...           18\n",
       "19  How does ARK ensure its investment strategies ...            2"
      ]
     },
     "execution_count": 12,
     "metadata": {},
     "output_type": "execute_result"
    }
   ],
   "source": [
    "import pandas as pd\n",
    "\n",
    "df = pd.read_csv(\"../data/Evaluation_Questions.csv\")\n",
    "df"
   ]
  },
  {
   "cell_type": "code",
   "execution_count": 18,
   "metadata": {},
   "outputs": [],
   "source": [
    "df[\"predicted_page\"] = [int(query_engine.retrieve(q)[0].metadata[\"page_label\"]) for q in df[\"question\"]]"
   ]
  },
  {
   "cell_type": "code",
   "execution_count": 19,
   "metadata": {},
   "outputs": [],
   "source": [
    "df[\"embedding score\"] = [query_engine.retrieve(q)[0].score for q in df[\"question\"]]"
   ]
  },
  {
   "cell_type": "code",
   "execution_count": 20,
   "metadata": {},
   "outputs": [
    {
     "data": {
      "text/html": [
       "<div>\n",
       "<style scoped>\n",
       "    .dataframe tbody tr th:only-of-type {\n",
       "        vertical-align: middle;\n",
       "    }\n",
       "\n",
       "    .dataframe tbody tr th {\n",
       "        vertical-align: top;\n",
       "    }\n",
       "\n",
       "    .dataframe thead th {\n",
       "        text-align: right;\n",
       "    }\n",
       "</style>\n",
       "<table border=\"1\" class=\"dataframe\">\n",
       "  <thead>\n",
       "    <tr style=\"text-align: right;\">\n",
       "      <th></th>\n",
       "      <th>question</th>\n",
       "      <th>answer_page</th>\n",
       "      <th>predicted_page</th>\n",
       "      <th>embedding score</th>\n",
       "    </tr>\n",
       "  </thead>\n",
       "  <tbody>\n",
       "    <tr>\n",
       "      <th>0</th>\n",
       "      <td>What is the core objective of investing in dis...</td>\n",
       "      <td>3</td>\n",
       "      <td>17</td>\n",
       "      <td>0.825417</td>\n",
       "    </tr>\n",
       "    <tr>\n",
       "      <th>1</th>\n",
       "      <td>What are the significant risks associated with...</td>\n",
       "      <td>2</td>\n",
       "      <td>2</td>\n",
       "      <td>0.883151</td>\n",
       "    </tr>\n",
       "    <tr>\n",
       "      <th>2</th>\n",
       "      <td>Can you list the converging innovation platfor...</td>\n",
       "      <td>4</td>\n",
       "      <td>3</td>\n",
       "      <td>0.790328</td>\n",
       "    </tr>\n",
       "    <tr>\n",
       "      <th>3</th>\n",
       "      <td>How does ARK describe the impact of Artificial...</td>\n",
       "      <td>3</td>\n",
       "      <td>3</td>\n",
       "      <td>0.746459</td>\n",
       "    </tr>\n",
       "    <tr>\n",
       "      <th>4</th>\n",
       "      <td>What transformative potential does Multiomic S...</td>\n",
       "      <td>3</td>\n",
       "      <td>3</td>\n",
       "      <td>0.737435</td>\n",
       "    </tr>\n",
       "    <tr>\n",
       "      <th>5</th>\n",
       "      <td>What are the implications of declining battery...</td>\n",
       "      <td>3</td>\n",
       "      <td>3</td>\n",
       "      <td>0.739814</td>\n",
       "    </tr>\n",
       "    <tr>\n",
       "      <th>6</th>\n",
       "      <td>How is the field of Robotics anticipated to ev...</td>\n",
       "      <td>3</td>\n",
       "      <td>3</td>\n",
       "      <td>0.729169</td>\n",
       "    </tr>\n",
       "    <tr>\n",
       "      <th>7</th>\n",
       "      <td>What does the ARK’s Convergence Scoring Framew...</td>\n",
       "      <td>4</td>\n",
       "      <td>18</td>\n",
       "      <td>0.763357</td>\n",
       "    </tr>\n",
       "    <tr>\n",
       "      <th>8</th>\n",
       "      <td>How do neural networks serve as a catalyst for...</td>\n",
       "      <td>3</td>\n",
       "      <td>3</td>\n",
       "      <td>0.747692</td>\n",
       "    </tr>\n",
       "    <tr>\n",
       "      <th>9</th>\n",
       "      <td>What unique view does ARK have towards Autonom...</td>\n",
       "      <td>3</td>\n",
       "      <td>16</td>\n",
       "      <td>0.705184</td>\n",
       "    </tr>\n",
       "    <tr>\n",
       "      <th>10</th>\n",
       "      <td>How do AI Chatbots contribute to the developme...</td>\n",
       "      <td>15</td>\n",
       "      <td>6</td>\n",
       "      <td>0.715621</td>\n",
       "    </tr>\n",
       "    <tr>\n",
       "      <th>11</th>\n",
       "      <td>What are breakthroughs in DNA Sequencing parti...</td>\n",
       "      <td>11</td>\n",
       "      <td>12</td>\n",
       "      <td>0.642160</td>\n",
       "    </tr>\n",
       "    <tr>\n",
       "      <th>12</th>\n",
       "      <td>How does the application of AI language models...</td>\n",
       "      <td>7</td>\n",
       "      <td>7</td>\n",
       "      <td>0.730095</td>\n",
       "    </tr>\n",
       "    <tr>\n",
       "      <th>13</th>\n",
       "      <td>In what ways are battery advances critical to ...</td>\n",
       "      <td>3</td>\n",
       "      <td>3</td>\n",
       "      <td>0.749170</td>\n",
       "    </tr>\n",
       "    <tr>\n",
       "      <th>14</th>\n",
       "      <td>How do reusable rockets contribute to global c...</td>\n",
       "      <td>3</td>\n",
       "      <td>3</td>\n",
       "      <td>0.658126</td>\n",
       "    </tr>\n",
       "    <tr>\n",
       "      <th>15</th>\n",
       "      <td>What economic implications do disruptive innov...</td>\n",
       "      <td>4</td>\n",
       "      <td>2</td>\n",
       "      <td>0.811638</td>\n",
       "    </tr>\n",
       "    <tr>\n",
       "      <th>16</th>\n",
       "      <td>What are the top 10 holdings of ARK Innovation...</td>\n",
       "      <td>19</td>\n",
       "      <td>19</td>\n",
       "      <td>0.860292</td>\n",
       "    </tr>\n",
       "    <tr>\n",
       "      <th>17</th>\n",
       "      <td>What thematic strategies do ARK ETFs focus on?</td>\n",
       "      <td>20</td>\n",
       "      <td>20</td>\n",
       "      <td>0.795720</td>\n",
       "    </tr>\n",
       "    <tr>\n",
       "      <th>18</th>\n",
       "      <td>What is ARK's strategy for capturing the benef...</td>\n",
       "      <td>18</td>\n",
       "      <td>17</td>\n",
       "      <td>0.857023</td>\n",
       "    </tr>\n",
       "    <tr>\n",
       "      <th>19</th>\n",
       "      <td>How does ARK ensure its investment strategies ...</td>\n",
       "      <td>2</td>\n",
       "      <td>2</td>\n",
       "      <td>0.854151</td>\n",
       "    </tr>\n",
       "  </tbody>\n",
       "</table>\n",
       "</div>"
      ],
      "text/plain": [
       "                                             question  answer_page  \\\n",
       "0   What is the core objective of investing in dis...            3   \n",
       "1   What are the significant risks associated with...            2   \n",
       "2   Can you list the converging innovation platfor...            4   \n",
       "3   How does ARK describe the impact of Artificial...            3   \n",
       "4   What transformative potential does Multiomic S...            3   \n",
       "5   What are the implications of declining battery...            3   \n",
       "6   How is the field of Robotics anticipated to ev...            3   \n",
       "7   What does the ARK’s Convergence Scoring Framew...            4   \n",
       "8   How do neural networks serve as a catalyst for...            3   \n",
       "9   What unique view does ARK have towards Autonom...            3   \n",
       "10  How do AI Chatbots contribute to the developme...           15   \n",
       "11  What are breakthroughs in DNA Sequencing parti...           11   \n",
       "12  How does the application of AI language models...            7   \n",
       "13  In what ways are battery advances critical to ...            3   \n",
       "14  How do reusable rockets contribute to global c...            3   \n",
       "15  What economic implications do disruptive innov...            4   \n",
       "16  What are the top 10 holdings of ARK Innovation...           19   \n",
       "17     What thematic strategies do ARK ETFs focus on?           20   \n",
       "18  What is ARK's strategy for capturing the benef...           18   \n",
       "19  How does ARK ensure its investment strategies ...            2   \n",
       "\n",
       "    predicted_page  embedding score  \n",
       "0               17         0.825417  \n",
       "1                2         0.883151  \n",
       "2                3         0.790328  \n",
       "3                3         0.746459  \n",
       "4                3         0.737435  \n",
       "5                3         0.739814  \n",
       "6                3         0.729169  \n",
       "7               18         0.763357  \n",
       "8                3         0.747692  \n",
       "9               16         0.705184  \n",
       "10               6         0.715621  \n",
       "11              12         0.642160  \n",
       "12               7         0.730095  \n",
       "13               3         0.749170  \n",
       "14               3         0.658126  \n",
       "15               2         0.811638  \n",
       "16              19         0.860292  \n",
       "17              20         0.795720  \n",
       "18              17         0.857023  \n",
       "19               2         0.854151  "
      ]
     },
     "execution_count": 20,
     "metadata": {},
     "output_type": "execute_result"
    }
   ],
   "source": [
    "df"
   ]
  },
  {
   "cell_type": "code",
   "execution_count": 21,
   "metadata": {},
   "outputs": [
    {
     "name": "stdout",
     "output_type": "stream",
     "text": [
      "retreviering performance 60%\n"
     ]
    }
   ],
   "source": [
    "performance = (df[\"answer_page\"]==df[\"predicted_page\"]).mean()\n",
    "print(f\"retreviering performance {round(performance*100)}%\")"
   ]
  },
  {
   "cell_type": "markdown",
   "metadata": {},
   "source": [
    "## Generation Eval\n",
    "\n",
    "Possible options - \n",
    "1. BERT Score \n",
    "- Check similarity betweeen text and generated response - faithfullness\n",
    "- Check similarity betweeen ques and generated response and ques - relevance (GPT can also be used) \n",
    "- Can be deloyed on run time and can be used to indicate the confidence score to user. Making them believe the system more\n",
    "\n",
    "2. LLM\n",
    "- LLM can be leveraged for this. Since LLM can hallucinate, for now, we are leverage extrnal methodologies. \n",
    "- Not possible to do it real time.\n",
    "\n",
    "3. More sofisticated methods\n",
    "- Use NER detect entities and check for hallucionated entities\n",
    "- Use COT 5/6 and ask GPT for label given answer. Mean and variance can help us understand faithfullness\n"
   ]
  },
  {
   "cell_type": "markdown",
   "metadata": {},
   "source": [
    "#### Test code to prove embedding preformance"
   ]
  },
  {
   "cell_type": "code",
   "execution_count": 22,
   "metadata": {},
   "outputs": [],
   "source": [
    "from sentence_transformers import SentenceTransformer\n",
    "\n",
    "model = SentenceTransformer('BAAI/bge-large-en-v1.5')"
   ]
  },
  {
   "cell_type": "code",
   "execution_count": 23,
   "metadata": {},
   "outputs": [
    {
     "name": "stdout",
     "output_type": "stream",
     "text": [
      "[[0.41846022]]\n"
     ]
    }
   ],
   "source": [
    "sentences_1 = [\"helo, this is random stuff\"]\n",
    "sentences_2 = [\"What unique view does ARK have towards Autonomous Mobility and its market potential?\"]\n",
    "\n",
    "embeddings_1 = model.encode(sentences_1, normalize_embeddings=True)\n",
    "embeddings_2 = model.encode(sentences_2, normalize_embeddings=True)\n",
    "similarity = embeddings_1 @ embeddings_2.T\n",
    "print(similarity)"
   ]
  },
  {
   "cell_type": "markdown",
   "metadata": {},
   "source": [
    "### Inference for all eval questions"
   ]
  },
  {
   "cell_type": "code",
   "execution_count": 24,
   "metadata": {},
   "outputs": [],
   "source": [
    "response_list = [query_engine.query(ques) for ques in df[\"question\"]]"
   ]
  },
  {
   "cell_type": "code",
   "execution_count": 25,
   "metadata": {},
   "outputs": [],
   "source": [
    "docs = []\n",
    "for i,row in df.iterrows():\n",
    "\n",
    "    r = response_list[i]\n",
    "    ques = row[\"question\"]\n",
    "\n",
    "    key = list(r.metadata.keys())[0]\n",
    "    for d in data_nodes:\n",
    "        if key == d.id_:\n",
    "            doc_context = d.get_content()\n",
    "    docs.append(doc_context)"
   ]
  },
  {
   "cell_type": "code",
   "execution_count": 26,
   "metadata": {},
   "outputs": [
    {
     "data": {
      "text/plain": [
       "'•17  1. Access to Growth Investors who seek to access companies at the forefront of technology-enabled innovation, in some of the most promising areas of the economy, with potential for long-term growth.2. Portfolio DiversificationPotentially Suited for investors who like to diversify their existing portfolio with strategies that offer low correlation to a number of core asset classes held in most investors’ portfolios.3. Moderate-to-High Risk-Reward ProfileA constant focus on secular changes and disruptive innovation can compliment traditional strategies and core portfolios. May be suited for investors who have a moderate-to-high risk profile and intend to stay invested for the medium-to-long term.ARK Seeks to Capture Disruptive Innovation\\nThe information herein is general in nature and should not be considered financial advice. An investor should consult a financial professional regarding the investor’s specific situation. Diversification does not assure a profit. The ARK Innovation ETF (ARKK) Aims to Offer'"
      ]
     },
     "execution_count": 26,
     "metadata": {},
     "output_type": "execute_result"
    }
   ],
   "source": [
    "docs[0]"
   ]
  },
  {
   "cell_type": "code",
   "execution_count": 27,
   "metadata": {},
   "outputs": [],
   "source": [
    "ques_embedding = model.encode(df[\"question\"], normalize_embeddings=True)\n",
    "text_embedding = model.encode(docs, normalize_embeddings=True)\n",
    "ans_embedding = model.encode([r.response for r in response_list], normalize_embeddings=True)"
   ]
  },
  {
   "cell_type": "code",
   "execution_count": 28,
   "metadata": {},
   "outputs": [
    {
     "data": {
      "text/plain": [
       "(20, 1024)"
      ]
     },
     "execution_count": 28,
     "metadata": {},
     "output_type": "execute_result"
    }
   ],
   "source": [
    "ques_embedding.shape"
   ]
  },
  {
   "cell_type": "code",
   "execution_count": 29,
   "metadata": {},
   "outputs": [
    {
     "data": {
      "text/plain": [
       "(20, 1024)"
      ]
     },
     "execution_count": 29,
     "metadata": {},
     "output_type": "execute_result"
    }
   ],
   "source": [
    "text_embedding.shape"
   ]
  },
  {
   "cell_type": "code",
   "execution_count": 30,
   "metadata": {},
   "outputs": [
    {
     "data": {
      "text/plain": [
       "(20, 1024)"
      ]
     },
     "execution_count": 30,
     "metadata": {},
     "output_type": "execute_result"
    }
   ],
   "source": [
    "ans_embedding.shape"
   ]
  },
  {
   "cell_type": "markdown",
   "metadata": {},
   "source": [
    "### faithfullness"
   ]
  },
  {
   "cell_type": "code",
   "execution_count": 31,
   "metadata": {},
   "outputs": [
    {
     "data": {
      "text/plain": [
       "[0.8609694,\n",
       " 0.83047324,\n",
       " 0.78075856,\n",
       " 0.8587421,\n",
       " 0.7058568,\n",
       " 0.79477906,\n",
       " 0.75540984,\n",
       " 0.6618123,\n",
       " 0.79115546,\n",
       " 0.47214276,\n",
       " 0.6028527,\n",
       " 0.50512916,\n",
       " 0.6485937,\n",
       " 0.6916897,\n",
       " 0.634709,\n",
       " 0.8471083,\n",
       " 0.92862535,\n",
       " 0.82982504,\n",
       " 0.87315154,\n",
       " 0.87826455]"
      ]
     },
     "execution_count": 31,
     "metadata": {},
     "output_type": "execute_result"
    }
   ],
   "source": [
    "similarity = [text_embedding[i,] @ ans_embedding[i,].T for i in range(len(df))]\n",
    "similarity"
   ]
  },
  {
   "cell_type": "code",
   "execution_count": 32,
   "metadata": {},
   "outputs": [
    {
     "name": "stdout",
     "output_type": "stream",
     "text": [
      "Faithfullness 75%\n"
     ]
    }
   ],
   "source": [
    "print(f\"Faithfullness {round((sum(similarity)/len(similarity))*100)}%\")"
   ]
  },
  {
   "cell_type": "code",
   "execution_count": 33,
   "metadata": {},
   "outputs": [],
   "source": [
    "df[\"faithfullness score\"] = similarity"
   ]
  },
  {
   "cell_type": "markdown",
   "metadata": {},
   "source": [
    "### Relevance"
   ]
  },
  {
   "cell_type": "code",
   "execution_count": 34,
   "metadata": {},
   "outputs": [
    {
     "data": {
      "text/plain": [
       "[0.91578233,\n",
       " 0.8718318,\n",
       " 0.5898199,\n",
       " 0.8435095,\n",
       " 0.80790424,\n",
       " 0.9008014,\n",
       " 0.8618424,\n",
       " 0.83895105,\n",
       " 0.8732161,\n",
       " 0.86262465,\n",
       " 0.8687971,\n",
       " 0.87979054,\n",
       " 0.84388316,\n",
       " 0.9451057,\n",
       " 0.9230579,\n",
       " 0.87716115,\n",
       " 0.89752495,\n",
       " 0.85258627,\n",
       " 0.8986722,\n",
       " 0.8957244]"
      ]
     },
     "execution_count": 34,
     "metadata": {},
     "output_type": "execute_result"
    }
   ],
   "source": [
    "similarity = [ques_embedding[i,] @ ans_embedding[i,].T for i in range(len(df))]\n",
    "similarity"
   ]
  },
  {
   "cell_type": "code",
   "execution_count": 35,
   "metadata": {},
   "outputs": [],
   "source": [
    "df[\"relevance score\"] = similarity"
   ]
  },
  {
   "cell_type": "code",
   "execution_count": 36,
   "metadata": {},
   "outputs": [
    {
     "name": "stdout",
     "output_type": "stream",
     "text": [
      "Relevance 86%\n"
     ]
    }
   ],
   "source": [
    "print(f\"Relevance {round((sum(similarity)/len(similarity))*100)}%\")"
   ]
  },
  {
   "cell_type": "code",
   "execution_count": 37,
   "metadata": {},
   "outputs": [
    {
     "data": {
      "text/html": [
       "<div>\n",
       "<style scoped>\n",
       "    .dataframe tbody tr th:only-of-type {\n",
       "        vertical-align: middle;\n",
       "    }\n",
       "\n",
       "    .dataframe tbody tr th {\n",
       "        vertical-align: top;\n",
       "    }\n",
       "\n",
       "    .dataframe thead th {\n",
       "        text-align: right;\n",
       "    }\n",
       "</style>\n",
       "<table border=\"1\" class=\"dataframe\">\n",
       "  <thead>\n",
       "    <tr style=\"text-align: right;\">\n",
       "      <th></th>\n",
       "      <th>question</th>\n",
       "      <th>answer_page</th>\n",
       "      <th>predicted_page</th>\n",
       "      <th>embedding score</th>\n",
       "      <th>faithfullness score</th>\n",
       "      <th>relevance score</th>\n",
       "    </tr>\n",
       "  </thead>\n",
       "  <tbody>\n",
       "    <tr>\n",
       "      <th>0</th>\n",
       "      <td>What is the core objective of investing in dis...</td>\n",
       "      <td>3</td>\n",
       "      <td>17</td>\n",
       "      <td>0.825417</td>\n",
       "      <td>0.860969</td>\n",
       "      <td>0.915782</td>\n",
       "    </tr>\n",
       "    <tr>\n",
       "      <th>1</th>\n",
       "      <td>What are the significant risks associated with...</td>\n",
       "      <td>2</td>\n",
       "      <td>2</td>\n",
       "      <td>0.883151</td>\n",
       "      <td>0.830473</td>\n",
       "      <td>0.871832</td>\n",
       "    </tr>\n",
       "    <tr>\n",
       "      <th>2</th>\n",
       "      <td>Can you list the converging innovation platfor...</td>\n",
       "      <td>4</td>\n",
       "      <td>3</td>\n",
       "      <td>0.790328</td>\n",
       "      <td>0.780759</td>\n",
       "      <td>0.589820</td>\n",
       "    </tr>\n",
       "    <tr>\n",
       "      <th>3</th>\n",
       "      <td>How does ARK describe the impact of Artificial...</td>\n",
       "      <td>3</td>\n",
       "      <td>3</td>\n",
       "      <td>0.746459</td>\n",
       "      <td>0.858742</td>\n",
       "      <td>0.843509</td>\n",
       "    </tr>\n",
       "    <tr>\n",
       "      <th>4</th>\n",
       "      <td>What transformative potential does Multiomic S...</td>\n",
       "      <td>3</td>\n",
       "      <td>3</td>\n",
       "      <td>0.737435</td>\n",
       "      <td>0.705857</td>\n",
       "      <td>0.807904</td>\n",
       "    </tr>\n",
       "    <tr>\n",
       "      <th>5</th>\n",
       "      <td>What are the implications of declining battery...</td>\n",
       "      <td>3</td>\n",
       "      <td>3</td>\n",
       "      <td>0.739814</td>\n",
       "      <td>0.794779</td>\n",
       "      <td>0.900801</td>\n",
       "    </tr>\n",
       "    <tr>\n",
       "      <th>6</th>\n",
       "      <td>How is the field of Robotics anticipated to ev...</td>\n",
       "      <td>3</td>\n",
       "      <td>3</td>\n",
       "      <td>0.729169</td>\n",
       "      <td>0.755410</td>\n",
       "      <td>0.861842</td>\n",
       "    </tr>\n",
       "    <tr>\n",
       "      <th>7</th>\n",
       "      <td>What does the ARK’s Convergence Scoring Framew...</td>\n",
       "      <td>4</td>\n",
       "      <td>18</td>\n",
       "      <td>0.763357</td>\n",
       "      <td>0.661812</td>\n",
       "      <td>0.838951</td>\n",
       "    </tr>\n",
       "    <tr>\n",
       "      <th>8</th>\n",
       "      <td>How do neural networks serve as a catalyst for...</td>\n",
       "      <td>3</td>\n",
       "      <td>3</td>\n",
       "      <td>0.747692</td>\n",
       "      <td>0.791155</td>\n",
       "      <td>0.873216</td>\n",
       "    </tr>\n",
       "    <tr>\n",
       "      <th>9</th>\n",
       "      <td>What unique view does ARK have towards Autonom...</td>\n",
       "      <td>3</td>\n",
       "      <td>16</td>\n",
       "      <td>0.705184</td>\n",
       "      <td>0.472143</td>\n",
       "      <td>0.862625</td>\n",
       "    </tr>\n",
       "    <tr>\n",
       "      <th>10</th>\n",
       "      <td>How do AI Chatbots contribute to the developme...</td>\n",
       "      <td>15</td>\n",
       "      <td>6</td>\n",
       "      <td>0.715621</td>\n",
       "      <td>0.602853</td>\n",
       "      <td>0.868797</td>\n",
       "    </tr>\n",
       "    <tr>\n",
       "      <th>11</th>\n",
       "      <td>What are breakthroughs in DNA Sequencing parti...</td>\n",
       "      <td>11</td>\n",
       "      <td>12</td>\n",
       "      <td>0.642160</td>\n",
       "      <td>0.505129</td>\n",
       "      <td>0.879791</td>\n",
       "    </tr>\n",
       "    <tr>\n",
       "      <th>12</th>\n",
       "      <td>How does the application of AI language models...</td>\n",
       "      <td>7</td>\n",
       "      <td>7</td>\n",
       "      <td>0.730095</td>\n",
       "      <td>0.648594</td>\n",
       "      <td>0.843883</td>\n",
       "    </tr>\n",
       "    <tr>\n",
       "      <th>13</th>\n",
       "      <td>In what ways are battery advances critical to ...</td>\n",
       "      <td>3</td>\n",
       "      <td>3</td>\n",
       "      <td>0.749170</td>\n",
       "      <td>0.691690</td>\n",
       "      <td>0.945106</td>\n",
       "    </tr>\n",
       "    <tr>\n",
       "      <th>14</th>\n",
       "      <td>How do reusable rockets contribute to global c...</td>\n",
       "      <td>3</td>\n",
       "      <td>3</td>\n",
       "      <td>0.658126</td>\n",
       "      <td>0.634709</td>\n",
       "      <td>0.923058</td>\n",
       "    </tr>\n",
       "    <tr>\n",
       "      <th>15</th>\n",
       "      <td>What economic implications do disruptive innov...</td>\n",
       "      <td>4</td>\n",
       "      <td>2</td>\n",
       "      <td>0.811638</td>\n",
       "      <td>0.847108</td>\n",
       "      <td>0.877161</td>\n",
       "    </tr>\n",
       "    <tr>\n",
       "      <th>16</th>\n",
       "      <td>What are the top 10 holdings of ARK Innovation...</td>\n",
       "      <td>19</td>\n",
       "      <td>19</td>\n",
       "      <td>0.860292</td>\n",
       "      <td>0.928625</td>\n",
       "      <td>0.897525</td>\n",
       "    </tr>\n",
       "    <tr>\n",
       "      <th>17</th>\n",
       "      <td>What thematic strategies do ARK ETFs focus on?</td>\n",
       "      <td>20</td>\n",
       "      <td>20</td>\n",
       "      <td>0.795720</td>\n",
       "      <td>0.829825</td>\n",
       "      <td>0.852586</td>\n",
       "    </tr>\n",
       "    <tr>\n",
       "      <th>18</th>\n",
       "      <td>What is ARK's strategy for capturing the benef...</td>\n",
       "      <td>18</td>\n",
       "      <td>17</td>\n",
       "      <td>0.857023</td>\n",
       "      <td>0.873152</td>\n",
       "      <td>0.898672</td>\n",
       "    </tr>\n",
       "    <tr>\n",
       "      <th>19</th>\n",
       "      <td>How does ARK ensure its investment strategies ...</td>\n",
       "      <td>2</td>\n",
       "      <td>2</td>\n",
       "      <td>0.854151</td>\n",
       "      <td>0.878265</td>\n",
       "      <td>0.895724</td>\n",
       "    </tr>\n",
       "  </tbody>\n",
       "</table>\n",
       "</div>"
      ],
      "text/plain": [
       "                                             question  answer_page  \\\n",
       "0   What is the core objective of investing in dis...            3   \n",
       "1   What are the significant risks associated with...            2   \n",
       "2   Can you list the converging innovation platfor...            4   \n",
       "3   How does ARK describe the impact of Artificial...            3   \n",
       "4   What transformative potential does Multiomic S...            3   \n",
       "5   What are the implications of declining battery...            3   \n",
       "6   How is the field of Robotics anticipated to ev...            3   \n",
       "7   What does the ARK’s Convergence Scoring Framew...            4   \n",
       "8   How do neural networks serve as a catalyst for...            3   \n",
       "9   What unique view does ARK have towards Autonom...            3   \n",
       "10  How do AI Chatbots contribute to the developme...           15   \n",
       "11  What are breakthroughs in DNA Sequencing parti...           11   \n",
       "12  How does the application of AI language models...            7   \n",
       "13  In what ways are battery advances critical to ...            3   \n",
       "14  How do reusable rockets contribute to global c...            3   \n",
       "15  What economic implications do disruptive innov...            4   \n",
       "16  What are the top 10 holdings of ARK Innovation...           19   \n",
       "17     What thematic strategies do ARK ETFs focus on?           20   \n",
       "18  What is ARK's strategy for capturing the benef...           18   \n",
       "19  How does ARK ensure its investment strategies ...            2   \n",
       "\n",
       "    predicted_page  embedding score  faithfullness score  relevance score  \n",
       "0               17         0.825417             0.860969         0.915782  \n",
       "1                2         0.883151             0.830473         0.871832  \n",
       "2                3         0.790328             0.780759         0.589820  \n",
       "3                3         0.746459             0.858742         0.843509  \n",
       "4                3         0.737435             0.705857         0.807904  \n",
       "5                3         0.739814             0.794779         0.900801  \n",
       "6                3         0.729169             0.755410         0.861842  \n",
       "7               18         0.763357             0.661812         0.838951  \n",
       "8                3         0.747692             0.791155         0.873216  \n",
       "9               16         0.705184             0.472143         0.862625  \n",
       "10               6         0.715621             0.602853         0.868797  \n",
       "11              12         0.642160             0.505129         0.879791  \n",
       "12               7         0.730095             0.648594         0.843883  \n",
       "13               3         0.749170             0.691690         0.945106  \n",
       "14               3         0.658126             0.634709         0.923058  \n",
       "15               2         0.811638             0.847108         0.877161  \n",
       "16              19         0.860292             0.928625         0.897525  \n",
       "17              20         0.795720             0.829825         0.852586  \n",
       "18              17         0.857023             0.873152         0.898672  \n",
       "19               2         0.854151             0.878265         0.895724  "
      ]
     },
     "execution_count": 37,
     "metadata": {},
     "output_type": "execute_result"
    }
   ],
   "source": [
    "df"
   ]
  }
 ],
 "metadata": {
  "kernelspec": {
   "display_name": "Python 3 (ipykernel)",
   "language": "python",
   "name": "python3"
  },
  "language_info": {
   "codemirror_mode": {
    "name": "ipython",
    "version": 3
   },
   "file_extension": ".py",
   "mimetype": "text/x-python",
   "name": "python",
   "nbconvert_exporter": "python",
   "pygments_lexer": "ipython3",
   "version": "3.8.16"
  }
 },
 "nbformat": 4,
 "nbformat_minor": 4
}
